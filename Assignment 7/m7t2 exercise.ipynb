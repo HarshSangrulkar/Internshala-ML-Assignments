{
 "cells": [
  {
   "cell_type": "markdown",
   "metadata": {
    "colab_type": "text",
    "id": "T2ava4lHiz_Y"
   },
   "source": [
    "## Task:\n",
    "** To form a confusion matrix from the given information and derive metrics from it. **"
   ]
  },
  {
   "cell_type": "code",
   "execution_count": 2,
   "metadata": {
    "colab": {},
    "colab_type": "code",
    "id": "O7lWqx8Hiz_a"
   },
   "outputs": [],
   "source": [
    "## importing necessary libraries\n",
    "import numpy as np\n",
    "import pandas as pd\n",
    "from sklearn.metrics import confusion_matrix"
   ]
  },
  {
   "cell_type": "code",
   "execution_count": 3,
   "metadata": {
    "colab": {},
    "colab_type": "code",
    "id": "tJq1RwT2iz_h",
    "outputId": "6a7b47c0-35f5-4f38-c8f9-dff364159f8b"
   },
   "outputs": [
    {
     "data": {
      "text/plain": [
       "((11, 12), 200)"
      ]
     },
     "execution_count": 3,
     "metadata": {},
     "output_type": "execute_result"
    }
   ],
   "source": [
    "## defining variables\n",
    "seed_value = (11,12) #for reproducible results\n",
    "array_size = 200\n",
    "\n",
    "seed_value, array_size"
   ]
  },
  {
   "cell_type": "code",
   "execution_count": 4,
   "metadata": {
    "colab": {},
    "colab_type": "code",
    "id": "kOB5wlhaiz_m",
    "outputId": "859c698a-1a95-44f0-9f7c-39c12ce168bb"
   },
   "outputs": [
    {
     "name": "stdout",
     "output_type": "stream",
     "text": [
      "[1 1 0 1 1 1]\n",
      "[1 1 0 1 1 0]\n",
      "200 200\n"
     ]
    }
   ],
   "source": [
    "## generating actuals and predictions\n",
    "\n",
    "np.random.seed(seed_value[0])\n",
    "actuals = np.random.randint(0,2,array_size)\n",
    "\n",
    "np.random.seed(seed_value[1])\n",
    "predictions = np.random.randint(0,2,array_size)\n",
    "\n",
    "print(actuals[:6])\n",
    "print(predictions[:6])\n",
    "print(actuals.size, predictions.size)"
   ]
  },
  {
   "cell_type": "code",
   "execution_count": 6,
   "metadata": {
    "colab": {},
    "colab_type": "code",
    "id": "VHn-l2nsiz_q",
    "outputId": "a9c58f72-6af3-4d09-d60b-fd806c1dbbab"
   },
   "outputs": [
    {
     "name": "stdout",
     "output_type": "stream",
     "text": [
      "[[58 40]\n",
      " [48 54]]\n"
     ]
    }
   ],
   "source": [
    "# forming confusion matrix (actuals/predictions on horizontal/vertical axis respectively)\n",
    "# Hint : use confusion matric function which we imported earlier\n",
    "cf = None\n",
    "cf = confusion_matrix(actuals, predictions)\n",
    "print(cf)"
   ]
  },
  {
   "cell_type": "markdown",
   "metadata": {
    "colab_type": "text",
    "id": "25t7SIqSiz_u"
   },
   "source": [
    "Expected Outcome <br>\n",
    "<img src=\"images/image1.png\" />"
   ]
  },
  {
   "cell_type": "code",
   "execution_count": 9,
   "metadata": {
    "colab": {},
    "colab_type": "code",
    "id": "x-ps4UNOiz_v",
    "outputId": "91963fa5-75c1-4d29-86ad-4a6b2daa26cb"
   },
   "outputs": [
    {
     "name": "stdout",
     "output_type": "stream",
     "text": [
      "54 48 58 40\n"
     ]
    }
   ],
   "source": [
    "## Extract True Positive, True Negative, False Positive, False Negative\n",
    "## Note that all these values are corresponding to class 1\n",
    "\n",
    "#true positive\n",
    "tp = None\n",
    "tp = cf[1][1]\n",
    "#false positive\n",
    "fp = None\n",
    "fp = cf[1][0]\n",
    "#true negative\n",
    "tn = None\n",
    "tn = cf[0][0]\n",
    "#false negative\n",
    "fn = None\n",
    "fn = cf[0][1]\n",
    "print(tp,fp,tn,fn)"
   ]
  },
  {
   "cell_type": "markdown",
   "metadata": {
    "colab_type": "text",
    "id": "FV8d7SVNiz_z"
   },
   "source": [
    "Expected Outcome<br>\n",
    "<img src=\"images/image2.png\" />"
   ]
  },
  {
   "cell_type": "code",
   "execution_count": 10,
   "metadata": {},
   "outputs": [],
   "source": [
    "from sklearn.metrics import precision_score, recall_score, f1_score"
   ]
  },
  {
   "cell_type": "code",
   "execution_count": 12,
   "metadata": {
    "colab": {},
    "colab_type": "code",
    "id": "-TCm4rHMiz_z",
    "outputId": "8e2703d4-ffb5-4521-c195-180cf5b64048"
   },
   "outputs": [
    {
     "data": {
      "text/plain": [
       "(0.5294117647058824, 0.574468085106383, 0.5510204081632654)"
      ]
     },
     "execution_count": 12,
     "metadata": {},
     "output_type": "execute_result"
    }
   ],
   "source": [
    "## Calculate Precision\n",
    "precision = None\n",
    "precision = tp/(tp+fp)\n",
    "## Calculate Recall\n",
    "recall = None\n",
    "recall = tp/(tp+fn)\n",
    "## Calculate f1 score\n",
    "f1 = None\n",
    "f1 = 2/((1/precision)+(1/recall))\n",
    "precision, recall, f1"
   ]
  },
  {
   "cell_type": "markdown",
   "metadata": {
    "colab_type": "text",
    "id": "_fz3lQSAiz_4"
   },
   "source": [
    "Expected Outcome <br>\n",
    "<img src=\"images/image3.png\" />"
   ]
  }
 ],
 "metadata": {
  "colab": {
   "name": "m7t2 exercise.ipynb",
   "provenance": []
  },
  "file_extension": ".py",
  "kernelspec": {
   "display_name": "Python 3 (ipykernel)",
   "language": "python",
   "name": "python3"
  },
  "language_info": {
   "codemirror_mode": {
    "name": "ipython",
    "version": 3
   },
   "file_extension": ".py",
   "mimetype": "text/x-python",
   "name": "python",
   "nbconvert_exporter": "python",
   "pygments_lexer": "ipython3",
   "version": "3.9.7"
  },
  "mimetype": "text/x-python",
  "name": "python",
  "npconvert_exporter": "python",
  "pygments_lexer": "ipython3",
  "version": 3
 },
 "nbformat": 4,
 "nbformat_minor": 1
}
